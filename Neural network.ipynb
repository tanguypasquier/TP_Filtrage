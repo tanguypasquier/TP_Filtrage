{
 "cells": [
  {
   "cell_type": "markdown",
   "metadata": {},
   "source": [
    "#   Cours 3 Classification"
   ]
  },
  {
   "cell_type": "markdown",
   "metadata": {},
   "source": [
    "##  1 Dev Neural network"
   ]
  },
  {
   "cell_type": "code",
   "execution_count": 117,
   "metadata": {},
   "outputs": [],
   "source": [
    "import numpy as np\n",
    "import pandas as pd\n",
    "import matplotlib.pyplot as plt\n"
   ]
  },
  {
   "cell_type": "code",
   "execution_count": 118,
   "metadata": {},
   "outputs": [
    {
     "name": "stdout",
     "output_type": "stream",
     "text": [
      "(42000, 785)\n"
     ]
    }
   ],
   "source": [
    "data = pd.read_csv(\"/home/kduplat/Documents/cours ML/TP_Filtrage/train.csv.zip\")\n",
    "np_data = np.array(data)\n",
    "print(np.shape(np_data))"
   ]
  },
  {
   "cell_type": "code",
   "execution_count": 119,
   "metadata": {},
   "outputs": [],
   "source": [
    "shuf_data = np_data.copy()\n",
    "np.random.shuffle(shuf_data)"
   ]
  },
  {
   "cell_type": "code",
   "execution_count": 120,
   "metadata": {},
   "outputs": [],
   "source": [
    "X_dev = shuf_data[:1000, 1:]\n",
    "Y_dev = shuf_data[:1000, 0]"
   ]
  },
  {
   "cell_type": "code",
   "execution_count": 121,
   "metadata": {},
   "outputs": [],
   "source": [
    "X_train = shuf_data[1000:, 1:]\n",
    "Y_train = shuf_data[1000:, 0]"
   ]
  },
  {
   "cell_type": "code",
   "execution_count": 122,
   "metadata": {},
   "outputs": [],
   "source": [
    "X_dev_norm = X_dev / 255.\n",
    "X_train_norm = X_train / 255."
   ]
  },
  {
   "cell_type": "markdown",
   "metadata": {},
   "source": [
    "### Initialisation"
   ]
  },
  {
   "cell_type": "code",
   "execution_count": 123,
   "metadata": {},
   "outputs": [],
   "source": [
    "def para_init(nb_neurone = 10, nb_pixel = 784):\n",
    "    W0 = np.random.uniform(-0.5, 0.5, size=(nb_pixel, nb_neurone))\n",
    "    W1 = np.random.uniform(-0.5, 0.5, size=(nb_neurone, nb_neurone))\n",
    "    b0 = np.random.uniform(-0.5, 0.5, size=nb_neurone)\n",
    "    b1 = np.random.uniform(-0.5, 0.5, size=nb_neurone)\n",
    "    return W0, W1, b0, b1\n",
    "\n",
    "def ReLU(Z):\n",
    "    return np.maximum(0,Z)\n",
    "\n",
    "def fct_softmax(Z):\n",
    "    return np.exp(Z)/np.sum(np.exp(Z))\n",
    "\n",
    "def propagation_forward(X, W0, W1, b0, b1):   \n",
    "    Z0 = np.dot(W0.T, X) + b0\n",
    "    A0 = ReLU(Z0)\n",
    "    Z1= np.dot(W1.T,  A0) + b1\n",
    "    A1 = fct_softmax(Z1)\n",
    "    \n",
    "    return Z0, A0, Z1, A1\n",
    "\n",
    "def der_ReLU(Z):\n",
    "    return Z > 0\n",
    "\n",
    "def exp_result(y):\n",
    "    tab = np.zeros(10)\n",
    "    tab[y] = 1\n",
    "    return tab\n",
    "\n",
    "### This is applied for 1 image (number)\n",
    "def propagation_backward(X, Y, A1, Z0, A0, W1):\n",
    "    delta1 = A1 - exp_result(Y)\n",
    "    dJdW1 = np.outer(A0, delta1.T)\n",
    "    dJdb1 = delta1\n",
    "    delta0 = np.dot(W1, delta1) * der_ReLU(Z0)\n",
    "    dJdW0 = np.outer(X, delta0.T)\n",
    "    dJdb0 = delta0\n",
    "    return dJdW0, dJdW1, dJdb0, dJdb1\n",
    "\n",
    "### dJdW0_L is  for the list of all the images (number)\n",
    "def update_param(W0, W1, b0, b1, dJdW0_L, dJdW1_L, dJdb0_L, dJdb1_L, lambd):\n",
    "    W0 = W0 - lambd * np.mean(dJdW0_L, axis=0)\n",
    "    W1 = W1 - lambd * np.mean(dJdW1_L, axis=0)\n",
    "    b0 = b0 - lambd * np.mean(dJdb0_L, axis=0)\n",
    "    b1 = b1 - lambd * np.mean(dJdb1_L, axis=0)\n",
    "    return W0, W1, b0, b1\n",
    "    \n"
   ]
  },
  {
   "cell_type": "code",
   "execution_count": 124,
   "metadata": {},
   "outputs": [
    {
     "data": {
      "text/plain": [
       "array([0, 2, 5, 0, 0])"
      ]
     },
     "execution_count": 124,
     "metadata": {},
     "output_type": "execute_result"
    }
   ],
   "source": [
    "test = np.array([-1, 2, 5, 0, -2])\n",
    "ReLU(test)"
   ]
  },
  {
   "cell_type": "code",
   "execution_count": 125,
   "metadata": {},
   "outputs": [
    {
     "name": "stdout",
     "output_type": "stream",
     "text": [
      "[[1 2 3]\n",
      " [4 5 6]\n",
      " [7 8 9]]\n",
      "[[1]\n",
      " [2]\n",
      " [3]]\n",
      "[[0 1 2]\n",
      " [2 3 4]\n",
      " [4 5 6]]\n",
      "[0. 0. 0. 0. 0. 1. 0. 0. 0. 0.]\n"
     ]
    }
   ],
   "source": [
    "\n",
    "test2 = np.array([[1,2,3], \n",
    "                  [4,5,6], \n",
    "                  [7,8,9]])\n",
    "\n",
    "minus = np.array([1, 2, 3]).reshape(-1, 1)  # Reshape pour obtenir un vecteur colonne\n",
    "print(test2)\n",
    "print(minus)\n",
    "print(test2 - minus)\n",
    "\n",
    "print(exp_result(5))\n"
   ]
  },
  {
   "cell_type": "markdown",
   "metadata": {},
   "source": [
    "###     1.3 Training the Neural Network"
   ]
  },
  {
   "cell_type": "code",
   "execution_count": 140,
   "metadata": {},
   "outputs": [],
   "source": [
    "def result(A1):\n",
    "    # print(A1)\n",
    "    return np.argmax(A1)\n",
    "\n",
    "def success_rate(y_test, y_pred):\n",
    "    return np.sum(y_test == y_pred) / len(y_test)\n",
    "\n",
    "def training(X_train, Y_train ,nb_epoch, W0, W1, b0, b1, lambd,nb_neurone = 10, nb_pixel = 784):\n",
    "    \n",
    "    dJdW0_L = np.zeros((len(X_train), nb_pixel, nb_neurone))\n",
    "    dJdW1_L = np.zeros((len(X_train), nb_neurone, nb_neurone))  \n",
    "    dJdb0_L = np.zeros((len(X_train), nb_neurone))\n",
    "    dJdb1_L = np.zeros((len(X_train), nb_neurone))\n",
    "    dpred = np.zeros(len(X_train))\n",
    "    \n",
    "    for i in range(nb_epoch):\n",
    "        for j in range(len(X_train)):\n",
    "            Z0, A0, Z1, A1 = propagation_forward(X_train[j], W0, W1, b0, b1)\n",
    "            dJdW0, dJdW1, dJdb0, dJdb1 = propagation_backward(X_train[j], Y_train[j], A1, Z0, A0, W1)\n",
    "            \n",
    "            dJdW0_L[j] = dJdW0\n",
    "            dJdW1_L[j] = dJdW1\n",
    "            dJdb0_L[j] = dJdb0\n",
    "            dJdb1_L[j] = dJdb1\n",
    "            dpred[j] = result(A1)\n",
    "            \n",
    "        W0, W1, b0, b1 = update_param(W0, W1, b0, b1, dJdW0_L, dJdW1_L, dJdb0_L, dJdb1_L, lambd)\n",
    "        \n",
    "        if (i + 1) % 10 == 0:\n",
    "            print(\"epoch : \", i+1)\n",
    "            print(\"accuracy : \", success_rate(Y_train, dpred))\n",
    "            print(\"-----------------------------------\")\n",
    "    \n",
    "    return A1, W0, W1, b0, b1 \n",
    "    \n"
   ]
  },
  {
   "cell_type": "code",
   "execution_count": null,
   "metadata": {},
   "outputs": [
    {
     "name": "stdout",
     "output_type": "stream",
     "text": [
      "epoch :  10\n",
      "accuracy :  0.32309756097560977\n",
      "-----------------------------------\n",
      "epoch :  20\n",
      "accuracy :  0.5487073170731708\n",
      "-----------------------------------\n",
      "epoch :  30\n",
      "accuracy :  0.5974634146341463\n",
      "-----------------------------------\n",
      "epoch :  40\n",
      "accuracy :  0.5968048780487805\n",
      "-----------------------------------\n",
      "epoch :  50\n",
      "accuracy :  0.6559756097560976\n",
      "-----------------------------------\n",
      "epoch :  60\n",
      "accuracy :  0.7457317073170732\n",
      "-----------------------------------\n",
      "epoch :  70\n",
      "accuracy :  0.7711707317073171\n",
      "-----------------------------------\n",
      "epoch :  80\n",
      "accuracy :  0.7920975609756098\n",
      "-----------------------------------\n",
      "epoch :  90\n",
      "accuracy :  0.8092439024390244\n",
      "-----------------------------------\n",
      "epoch :  100\n",
      "accuracy :  0.8230487804878048\n",
      "-----------------------------------\n"
     ]
    }
   ],
   "source": [
    "epoch = 100\n",
    "lambd = 1\n",
    "W0, W1, b0, b1 = para_init()\n",
    "\n",
    "A1, W0, W1, b0, b1  = training(X_train_norm, Y_train, epoch, lambd, W0, W1, b0, b1)"
   ]
  },
  {
   "cell_type": "code",
   "execution_count": 133,
   "metadata": {},
   "outputs": [],
   "source": [
    "np.savez('data.npz', W0=W0, W1=W1, b0=b0, b1=b1)"
   ]
  },
  {
   "cell_type": "code",
   "execution_count": 139,
   "metadata": {},
   "outputs": [],
   "source": [
    "def main(W0, W1, b0, b1):\n",
    "    dpred = np.zeros(len(X_dev_norm))\n",
    "    \n",
    "    for j in range(len(X_dev_norm)):\n",
    "        Z0, A0, Z1, A1 = propagation_forward(X_dev_norm[j], W0, W1, b0, b1)\n",
    "        dpred[j] = result(A1)\n",
    "        \n",
    "    print(\"Accuracy : \", success_rate(Y_dev, dpred))"
   ]
  },
  {
   "cell_type": "code",
   "execution_count": 137,
   "metadata": {},
   "outputs": [
    {
     "name": "stdout",
     "output_type": "stream",
     "text": [
      "Accuracy :  0.807\n"
     ]
    }
   ],
   "source": [
    "main()"
   ]
  },
  {
   "cell_type": "markdown",
   "metadata": {},
   "source": [
    "###  Bonus"
   ]
  },
  {
   "cell_type": "code",
   "execution_count": 142,
   "metadata": {},
   "outputs": [
    {
     "name": "stdout",
     "output_type": "stream",
     "text": [
      "epoch :  10\n",
      "accuracy :  0.849609756097561\n",
      "-----------------------------------\n",
      "epoch :  20\n",
      "accuracy :  0.8497317073170731\n",
      "-----------------------------------\n",
      "epoch :  30\n",
      "accuracy :  0.8509512195121951\n",
      "-----------------------------------\n",
      "epoch :  40\n",
      "accuracy :  0.8519756097560975\n",
      "-----------------------------------\n",
      "epoch :  50\n",
      "accuracy :  0.852390243902439\n",
      "-----------------------------------\n",
      "epoch :  60\n",
      "accuracy :  0.8530243902439024\n",
      "-----------------------------------\n",
      "epoch :  70\n",
      "accuracy :  0.8538780487804878\n",
      "-----------------------------------\n",
      "epoch :  80\n",
      "accuracy :  0.8546829268292683\n",
      "-----------------------------------\n",
      "epoch :  90\n",
      "accuracy :  0.8555121951219512\n",
      "-----------------------------------\n",
      "epoch :  100\n",
      "accuracy :  0.8564146341463414\n",
      "-----------------------------------\n",
      "Accuracy :  0.838\n"
     ]
    }
   ],
   "source": [
    "nb_epoch = 100\n",
    "lambd =  0.1\n",
    "A1_2, W0_2, W1_2, b0_2, b1_2 = training(X_train_norm, Y_train , nb_epoch, W0, W1, b0, b1, lambd,nb_neurone = 10, nb_pixel = 784)\n",
    "\n",
    "main(W0_2, W1_2, b0_2, b1_2)"
   ]
  }
 ],
 "metadata": {
  "kernelspec": {
   "display_name": "base",
   "language": "python",
   "name": "python3"
  },
  "language_info": {
   "codemirror_mode": {
    "name": "ipython",
    "version": 3
   },
   "file_extension": ".py",
   "mimetype": "text/x-python",
   "name": "python",
   "nbconvert_exporter": "python",
   "pygments_lexer": "ipython3",
   "version": "3.11.5"
  }
 },
 "nbformat": 4,
 "nbformat_minor": 2
}
